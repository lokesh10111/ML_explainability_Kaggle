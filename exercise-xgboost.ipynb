{
 "cells": [
  {
   "cell_type": "markdown",
   "id": "56ca44b6",
   "metadata": {
    "papermill": {
     "duration": 0.007607,
     "end_time": "2023-05-08T15:41:04.678303",
     "exception": false,
     "start_time": "2023-05-08T15:41:04.670696",
     "status": "completed"
    },
    "tags": []
   },
   "source": [
    "**This notebook is an exercise in the [Intermediate Machine Learning](https://www.kaggle.com/learn/intermediate-machine-learning) course.  You can reference the tutorial at [this link](https://www.kaggle.com/alexisbcook/xgboost).**\n",
    "\n",
    "---\n"
   ]
  },
  {
   "cell_type": "markdown",
   "id": "4ed5d2ee",
   "metadata": {
    "papermill": {
     "duration": 0.004714,
     "end_time": "2023-05-08T15:41:04.688526",
     "exception": false,
     "start_time": "2023-05-08T15:41:04.683812",
     "status": "completed"
    },
    "tags": []
   },
   "source": [
    "In this exercise, you will use your new knowledge to train a model with **gradient boosting**.\n",
    "\n",
    "# Setup\n",
    "\n",
    "The questions below will give you feedback on your work. Run the following cell to set up the feedback system."
   ]
  },
  {
   "cell_type": "code",
   "execution_count": 1,
   "id": "50e73eff",
   "metadata": {
    "execution": {
     "iopub.execute_input": "2023-05-08T15:41:04.703842Z",
     "iopub.status.busy": "2023-05-08T15:41:04.703354Z",
     "iopub.status.idle": "2023-05-08T15:41:07.401033Z",
     "shell.execute_reply": "2023-05-08T15:41:07.399921Z"
    },
    "papermill": {
     "duration": 2.710171,
     "end_time": "2023-05-08T15:41:07.403925",
     "exception": false,
     "start_time": "2023-05-08T15:41:04.693754",
     "status": "completed"
    },
    "tags": []
   },
   "outputs": [
    {
     "name": "stderr",
     "output_type": "stream",
     "text": [
      "/opt/conda/lib/python3.10/site-packages/scipy/__init__.py:146: UserWarning: A NumPy version >=1.16.5 and <1.23.0 is required for this version of SciPy (detected version 1.23.5\n",
      "  warnings.warn(f\"A NumPy version >={np_minversion} and <{np_maxversion}\"\n"
     ]
    },
    {
     "name": "stdout",
     "output_type": "stream",
     "text": [
      "Setup Complete\n"
     ]
    }
   ],
   "source": [
    "# Set up code checking\n",
    "import os\n",
    "if not os.path.exists(\"../input/train.csv\"):\n",
    "    os.symlink(\"../input/home-data-for-ml-course/train.csv\", \"../input/train.csv\")  \n",
    "    os.symlink(\"../input/home-data-for-ml-course/test.csv\", \"../input/test.csv\") \n",
    "from learntools.core import binder\n",
    "binder.bind(globals())\n",
    "from learntools.ml_intermediate.ex6 import *\n",
    "print(\"Setup Complete\")"
   ]
  },
  {
   "cell_type": "markdown",
   "id": "ff8b4b24",
   "metadata": {
    "papermill": {
     "duration": 0.004997,
     "end_time": "2023-05-08T15:41:07.414920",
     "exception": false,
     "start_time": "2023-05-08T15:41:07.409923",
     "status": "completed"
    },
    "tags": []
   },
   "source": [
    "You will work with the [Housing Prices Competition for Kaggle Learn Users](https://www.kaggle.com/c/home-data-for-ml-course) dataset from the previous exercise. \n",
    "\n",
    "![Ames Housing dataset image](https://storage.googleapis.com/kaggle-media/learn/images/lTJVG4e.png)\n",
    "\n",
    "Run the next code cell without changes to load the training and validation sets in `X_train`, `X_valid`, `y_train`, and `y_valid`.  The test set is loaded in `X_test`."
   ]
  },
  {
   "cell_type": "code",
   "execution_count": 2,
   "id": "2e2cb4a3",
   "metadata": {
    "execution": {
     "iopub.execute_input": "2023-05-08T15:41:07.427256Z",
     "iopub.status.busy": "2023-05-08T15:41:07.426315Z",
     "iopub.status.idle": "2023-05-08T15:41:07.602951Z",
     "shell.execute_reply": "2023-05-08T15:41:07.601957Z"
    },
    "papermill": {
     "duration": 0.18533,
     "end_time": "2023-05-08T15:41:07.605364",
     "exception": false,
     "start_time": "2023-05-08T15:41:07.420034",
     "status": "completed"
    },
    "tags": []
   },
   "outputs": [],
   "source": [
    "import pandas as pd\n",
    "from sklearn.model_selection import train_test_split\n",
    "\n",
    "# Read the data\n",
    "X = pd.read_csv('../input/train.csv', index_col='Id')\n",
    "X_test_full = pd.read_csv('../input/test.csv', index_col='Id')\n",
    "\n",
    "# Remove rows with missing target, separate target from predictors\n",
    "X.dropna(axis=0, subset=['SalePrice'], inplace=True)\n",
    "y = X.SalePrice              \n",
    "X.drop(['SalePrice'], axis=1, inplace=True)\n",
    "\n",
    "# Break off validation set from training data\n",
    "X_train_full, X_valid_full, y_train, y_valid = train_test_split(X, y, train_size=0.8, test_size=0.2,\n",
    "                                                                random_state=0)\n",
    "\n",
    "# \"Cardinality\" means the number of unique values in a column\n",
    "# Select categorical columns with relatively low cardinality (convenient but arbitrary)\n",
    "low_cardinality_cols = [cname for cname in X_train_full.columns if X_train_full[cname].nunique() < 10 and \n",
    "                        X_train_full[cname].dtype == \"object\"]\n",
    "\n",
    "# Select numeric columns\n",
    "numeric_cols = [cname for cname in X_train_full.columns if X_train_full[cname].dtype in ['int64', 'float64']]\n",
    "\n",
    "# Keep selected columns only\n",
    "my_cols = low_cardinality_cols + numeric_cols\n",
    "X_train = X_train_full[my_cols].copy()\n",
    "X_valid = X_valid_full[my_cols].copy()\n",
    "X_test = X_test_full[my_cols].copy()\n",
    "\n",
    "# One-hot encode the data (to shorten the code, we use pandas)\n",
    "X_train = pd.get_dummies(X_train)\n",
    "X_valid = pd.get_dummies(X_valid)\n",
    "X_test = pd.get_dummies(X_test)\n",
    "X_train, X_valid = X_train.align(X_valid, join='left', axis=1)\n",
    "X_train, X_test = X_train.align(X_test, join='left', axis=1)"
   ]
  },
  {
   "cell_type": "markdown",
   "id": "4c160225",
   "metadata": {
    "papermill": {
     "duration": 0.004795,
     "end_time": "2023-05-08T15:41:07.615276",
     "exception": false,
     "start_time": "2023-05-08T15:41:07.610481",
     "status": "completed"
    },
    "tags": []
   },
   "source": [
    "# Step 1: Build model\n",
    "\n",
    "### Part A\n",
    "\n",
    "In this step, you'll build and train your first model with gradient boosting.\n",
    "\n",
    "- Begin by setting `my_model_1` to an XGBoost model.  Use the [XGBRegressor](https://xgboost.readthedocs.io/en/latest/python/python_api.html#xgboost.XGBRegressor) class, and set the random seed to 0 (`random_state=0`).  **Leave all other parameters as default.**\n",
    "- Then, fit the model to the training data in `X_train` and `y_train`."
   ]
  },
  {
   "cell_type": "code",
   "execution_count": 3,
   "id": "7cba1c4c",
   "metadata": {
    "execution": {
     "iopub.execute_input": "2023-05-08T15:41:07.627656Z",
     "iopub.status.busy": "2023-05-08T15:41:07.626750Z",
     "iopub.status.idle": "2023-05-08T15:41:08.489326Z",
     "shell.execute_reply": "2023-05-08T15:41:08.488498Z"
    },
    "papermill": {
     "duration": 0.871831,
     "end_time": "2023-05-08T15:41:08.492038",
     "exception": false,
     "start_time": "2023-05-08T15:41:07.620207",
     "status": "completed"
    },
    "tags": []
   },
   "outputs": [
    {
     "data": {
      "application/javascript": [
       "parent.postMessage({\"jupyterEvent\": \"custom.exercise_interaction\", \"data\": {\"outcomeType\": 1, \"valueTowardsCompletion\": 0.5, \"interactionType\": 1, \"questionType\": 2, \"questionId\": \"1.1_Model1A\", \"learnToolsVersion\": \"0.3.4\", \"failureMessage\": \"\", \"exceptionClass\": \"\", \"trace\": \"\"}}, \"*\")"
      ],
      "text/plain": [
       "<IPython.core.display.Javascript object>"
      ]
     },
     "metadata": {},
     "output_type": "display_data"
    },
    {
     "data": {
      "text/markdown": [
       "<span style=\"color:#33cc33\">Correct</span>"
      ],
      "text/plain": [
       "Correct"
      ]
     },
     "metadata": {},
     "output_type": "display_data"
    }
   ],
   "source": [
    "from xgboost import XGBRegressor\n",
    "\n",
    "# Define the model\n",
    "my_model_1 = XGBRegressor(random_state=0)\n",
    "\n",
    "# Fit the model\n",
    "my_model_1.fit(X_train,y_train)\n",
    "\n",
    "# Check your answer\n",
    "step_1.a.check()"
   ]
  },
  {
   "cell_type": "code",
   "execution_count": 4,
   "id": "348b3801",
   "metadata": {
    "execution": {
     "iopub.execute_input": "2023-05-08T15:41:08.504949Z",
     "iopub.status.busy": "2023-05-08T15:41:08.504549Z",
     "iopub.status.idle": "2023-05-08T15:41:08.508994Z",
     "shell.execute_reply": "2023-05-08T15:41:08.507874Z"
    },
    "papermill": {
     "duration": 0.013481,
     "end_time": "2023-05-08T15:41:08.511373",
     "exception": false,
     "start_time": "2023-05-08T15:41:08.497892",
     "status": "completed"
    },
    "tags": []
   },
   "outputs": [],
   "source": [
    "# Lines below will give you a hint or solution code\n",
    "#step_1.a.hint()\n",
    "#step_1.a.solution()"
   ]
  },
  {
   "cell_type": "markdown",
   "id": "708c4cd5",
   "metadata": {
    "papermill": {
     "duration": 0.00537,
     "end_time": "2023-05-08T15:41:08.522470",
     "exception": false,
     "start_time": "2023-05-08T15:41:08.517100",
     "status": "completed"
    },
    "tags": []
   },
   "source": [
    "### Part B\n",
    "\n",
    "Set `predictions_1` to the model's predictions for the validation data.  Recall that the validation features are stored in `X_valid`."
   ]
  },
  {
   "cell_type": "code",
   "execution_count": 5,
   "id": "addd6274",
   "metadata": {
    "execution": {
     "iopub.execute_input": "2023-05-08T15:41:08.535929Z",
     "iopub.status.busy": "2023-05-08T15:41:08.535069Z",
     "iopub.status.idle": "2023-05-08T15:41:08.560044Z",
     "shell.execute_reply": "2023-05-08T15:41:08.559054Z"
    },
    "papermill": {
     "duration": 0.035154,
     "end_time": "2023-05-08T15:41:08.563199",
     "exception": false,
     "start_time": "2023-05-08T15:41:08.528045",
     "status": "completed"
    },
    "tags": []
   },
   "outputs": [
    {
     "data": {
      "application/javascript": [
       "parent.postMessage({\"jupyterEvent\": \"custom.exercise_interaction\", \"data\": {\"outcomeType\": 1, \"valueTowardsCompletion\": 0.5, \"interactionType\": 1, \"questionType\": 2, \"questionId\": \"1.2_Model1B\", \"learnToolsVersion\": \"0.3.4\", \"failureMessage\": \"\", \"exceptionClass\": \"\", \"trace\": \"\"}}, \"*\")"
      ],
      "text/plain": [
       "<IPython.core.display.Javascript object>"
      ]
     },
     "metadata": {},
     "output_type": "display_data"
    },
    {
     "data": {
      "text/markdown": [
       "<span style=\"color:#33cc33\">Correct</span>"
      ],
      "text/plain": [
       "Correct"
      ]
     },
     "metadata": {},
     "output_type": "display_data"
    }
   ],
   "source": [
    "from sklearn.metrics import mean_absolute_error\n",
    "\n",
    "# Get predictions\n",
    "predictions_1 =my_model_1.predict(X_valid)\n",
    "\n",
    "# Check your answer\n",
    "step_1.b.check()"
   ]
  },
  {
   "cell_type": "code",
   "execution_count": 6,
   "id": "5b86092f",
   "metadata": {
    "execution": {
     "iopub.execute_input": "2023-05-08T15:41:08.577664Z",
     "iopub.status.busy": "2023-05-08T15:41:08.577195Z",
     "iopub.status.idle": "2023-05-08T15:41:08.581716Z",
     "shell.execute_reply": "2023-05-08T15:41:08.580601Z"
    },
    "papermill": {
     "duration": 0.013978,
     "end_time": "2023-05-08T15:41:08.584209",
     "exception": false,
     "start_time": "2023-05-08T15:41:08.570231",
     "status": "completed"
    },
    "tags": []
   },
   "outputs": [],
   "source": [
    "# Lines below will give you a hint or solution code\n",
    "#step_1.b.hint()\n",
    "#step_1.b.solution()"
   ]
  },
  {
   "cell_type": "markdown",
   "id": "ef4badc4",
   "metadata": {
    "papermill": {
     "duration": 0.005381,
     "end_time": "2023-05-08T15:41:08.595516",
     "exception": false,
     "start_time": "2023-05-08T15:41:08.590135",
     "status": "completed"
    },
    "tags": []
   },
   "source": [
    "### Part C\n",
    "\n",
    "Finally, use the `mean_absolute_error()` function to calculate the mean absolute error (MAE) corresponding to the predictions for the validation set.  Recall that the labels for the validation data are stored in `y_valid`."
   ]
  },
  {
   "cell_type": "code",
   "execution_count": 7,
   "id": "42988541",
   "metadata": {
    "execution": {
     "iopub.execute_input": "2023-05-08T15:41:08.609176Z",
     "iopub.status.busy": "2023-05-08T15:41:08.608541Z",
     "iopub.status.idle": "2023-05-08T15:41:08.617791Z",
     "shell.execute_reply": "2023-05-08T15:41:08.616868Z"
    },
    "papermill": {
     "duration": 0.018989,
     "end_time": "2023-05-08T15:41:08.620075",
     "exception": false,
     "start_time": "2023-05-08T15:41:08.601086",
     "status": "completed"
    },
    "tags": []
   },
   "outputs": [
    {
     "data": {
      "application/javascript": [
       "parent.postMessage({\"jupyterEvent\": \"custom.exercise_interaction\", \"data\": {\"outcomeType\": 1, \"valueTowardsCompletion\": 0.5, \"interactionType\": 1, \"questionType\": 2, \"questionId\": \"1.3_Model1C\", \"learnToolsVersion\": \"0.3.4\", \"failureMessage\": \"\", \"exceptionClass\": \"\", \"trace\": \"\"}}, \"*\")"
      ],
      "text/plain": [
       "<IPython.core.display.Javascript object>"
      ]
     },
     "metadata": {},
     "output_type": "display_data"
    },
    {
     "data": {
      "text/markdown": [
       "<span style=\"color:#33cc33\">Correct</span>"
      ],
      "text/plain": [
       "Correct"
      ]
     },
     "metadata": {},
     "output_type": "display_data"
    }
   ],
   "source": [
    "# Calculate MAE\n",
    "mae_1 = mean_absolute_error(y_valid,predictions_1)\n",
    "\n",
    "# Uncomment to print MAE\n",
    "# print(\"Mean Absolute Error:\" , mae_1)\n",
    "\n",
    "# Check your answer\n",
    "step_1.c.check()"
   ]
  },
  {
   "cell_type": "code",
   "execution_count": 8,
   "id": "bacfb258",
   "metadata": {
    "execution": {
     "iopub.execute_input": "2023-05-08T15:41:08.634103Z",
     "iopub.status.busy": "2023-05-08T15:41:08.633314Z",
     "iopub.status.idle": "2023-05-08T15:41:08.638180Z",
     "shell.execute_reply": "2023-05-08T15:41:08.637124Z"
    },
    "papermill": {
     "duration": 0.014906,
     "end_time": "2023-05-08T15:41:08.640867",
     "exception": false,
     "start_time": "2023-05-08T15:41:08.625961",
     "status": "completed"
    },
    "tags": []
   },
   "outputs": [],
   "source": [
    "# Lines below will give you a hint or solution code\n",
    "#step_1.c.hint()\n",
    "#step_1.c.solution()"
   ]
  },
  {
   "cell_type": "markdown",
   "id": "0a57d8d6",
   "metadata": {
    "papermill": {
     "duration": 0.005466,
     "end_time": "2023-05-08T15:41:08.652314",
     "exception": false,
     "start_time": "2023-05-08T15:41:08.646848",
     "status": "completed"
    },
    "tags": []
   },
   "source": [
    "# Step 2: Improve the model\n",
    "\n",
    "Now that you've trained a default model as baseline, it's time to tinker with the parameters, to see if you can get better performance!\n",
    "- Begin by setting `my_model_2` to an XGBoost model, using the [XGBRegressor](https://xgboost.readthedocs.io/en/latest/python/python_api.html#xgboost.XGBRegressor) class.  Use what you learned in the previous tutorial to figure out how to change the default parameters (like `n_estimators` and `learning_rate`) to get better results.\n",
    "- Then, fit the model to the training data in `X_train` and `y_train`.\n",
    "- Set `predictions_2` to the model's predictions for the validation data.  Recall that the validation features are stored in `X_valid`.\n",
    "- Finally, use the `mean_absolute_error()` function to calculate the mean absolute error (MAE) corresponding to the predictions on the validation set.  Recall that the labels for the validation data are stored in `y_valid`.\n",
    "\n",
    "In order for this step to be marked correct, your model in `my_model_2` must attain lower MAE than the model in `my_model_1`. "
   ]
  },
  {
   "cell_type": "code",
   "execution_count": 9,
   "id": "3dc89c0a",
   "metadata": {
    "execution": {
     "iopub.execute_input": "2023-05-08T15:41:08.666335Z",
     "iopub.status.busy": "2023-05-08T15:41:08.665297Z",
     "iopub.status.idle": "2023-05-08T15:41:16.938515Z",
     "shell.execute_reply": "2023-05-08T15:41:16.937445Z"
    },
    "papermill": {
     "duration": 8.28298,
     "end_time": "2023-05-08T15:41:16.941037",
     "exception": false,
     "start_time": "2023-05-08T15:41:08.658057",
     "status": "completed"
    },
    "tags": []
   },
   "outputs": [
    {
     "data": {
      "application/javascript": [
       "parent.postMessage({\"jupyterEvent\": \"custom.exercise_interaction\", \"data\": {\"outcomeType\": 1, \"valueTowardsCompletion\": 0.5, \"interactionType\": 1, \"questionType\": 2, \"questionId\": \"2_Model2\", \"learnToolsVersion\": \"0.3.4\", \"failureMessage\": \"\", \"exceptionClass\": \"\", \"trace\": \"\"}}, \"*\")"
      ],
      "text/plain": [
       "<IPython.core.display.Javascript object>"
      ]
     },
     "metadata": {},
     "output_type": "display_data"
    },
    {
     "data": {
      "text/markdown": [
       "<span style=\"color:#33cc33\">Correct</span>"
      ],
      "text/plain": [
       "Correct"
      ]
     },
     "metadata": {},
     "output_type": "display_data"
    }
   ],
   "source": [
    "# Define the model\n",
    "my_model_2 = XGBRegressor(n_estimators=1000,learning_rate=0.05)\n",
    "my_model_2.fit(X_train,y_train)\n",
    "predictions_2=my_model_2.predict(X_valid)\n",
    "# Calculate MAE\n",
    "mae_2 = mean_absolute_error(y_valid,predictions_2)\n",
    "\n",
    "# Uncomment to print MAE\n",
    "# print(\"Mean Absolute Error:\" , mae_2)\n",
    "\n",
    "# Check your answer\n",
    "step_2.check()"
   ]
  },
  {
   "cell_type": "code",
   "execution_count": 10,
   "id": "866cacd9",
   "metadata": {
    "execution": {
     "iopub.execute_input": "2023-05-08T15:41:16.956082Z",
     "iopub.status.busy": "2023-05-08T15:41:16.955700Z",
     "iopub.status.idle": "2023-05-08T15:41:16.959890Z",
     "shell.execute_reply": "2023-05-08T15:41:16.958918Z"
    },
    "papermill": {
     "duration": 0.013799,
     "end_time": "2023-05-08T15:41:16.962331",
     "exception": false,
     "start_time": "2023-05-08T15:41:16.948532",
     "status": "completed"
    },
    "tags": []
   },
   "outputs": [],
   "source": [
    "# Lines below will give you a hint or solution code\n",
    "#step_2.hint()\n",
    "#step_2.solution()"
   ]
  },
  {
   "cell_type": "markdown",
   "id": "e1c1b882",
   "metadata": {
    "papermill": {
     "duration": 0.005728,
     "end_time": "2023-05-08T15:41:16.974031",
     "exception": false,
     "start_time": "2023-05-08T15:41:16.968303",
     "status": "completed"
    },
    "tags": []
   },
   "source": [
    "# Step 3: Break the model\n",
    "\n",
    "In this step, you will create a model that performs worse than the original model in Step 1.  This will help you to develop your intuition for how to set parameters.  You might even find that you accidentally get better performance, which is ultimately a nice problem to have and a valuable learning experience!\n",
    "- Begin by setting `my_model_3` to an XGBoost model, using the [XGBRegressor](https://xgboost.readthedocs.io/en/latest/python/python_api.html#xgboost.XGBRegressor) class.  Use what you learned in the previous tutorial to figure out how to change the default parameters (like `n_estimators` and `learning_rate`) to design a model to get high MAE.\n",
    "- Then, fit the model to the training data in `X_train` and `y_train`.\n",
    "- Set `predictions_3` to the model's predictions for the validation data.  Recall that the validation features are stored in `X_valid`.\n",
    "- Finally, use the `mean_absolute_error()` function to calculate the mean absolute error (MAE) corresponding to the predictions on the validation set.  Recall that the labels for the validation data are stored in `y_valid`.\n",
    "\n",
    "In order for this step to be marked correct, your model in `my_model_3` must attain higher MAE than the model in `my_model_1`. "
   ]
  },
  {
   "cell_type": "code",
   "execution_count": 11,
   "id": "22ddc257",
   "metadata": {
    "execution": {
     "iopub.execute_input": "2023-05-08T15:41:16.989017Z",
     "iopub.status.busy": "2023-05-08T15:41:16.987890Z",
     "iopub.status.idle": "2023-05-08T15:41:17.448198Z",
     "shell.execute_reply": "2023-05-08T15:41:17.447410Z"
    },
    "papermill": {
     "duration": 0.470601,
     "end_time": "2023-05-08T15:41:17.450715",
     "exception": false,
     "start_time": "2023-05-08T15:41:16.980114",
     "status": "completed"
    },
    "tags": []
   },
   "outputs": [
    {
     "data": {
      "application/javascript": [
       "parent.postMessage({\"jupyterEvent\": \"custom.exercise_interaction\", \"data\": {\"outcomeType\": 1, \"valueTowardsCompletion\": 0.5, \"interactionType\": 1, \"questionType\": 2, \"questionId\": \"3_Model3\", \"learnToolsVersion\": \"0.3.4\", \"failureMessage\": \"\", \"exceptionClass\": \"\", \"trace\": \"\"}}, \"*\")"
      ],
      "text/plain": [
       "<IPython.core.display.Javascript object>"
      ]
     },
     "metadata": {},
     "output_type": "display_data"
    },
    {
     "data": {
      "text/markdown": [
       "<span style=\"color:#33cc33\">Correct</span>"
      ],
      "text/plain": [
       "Correct"
      ]
     },
     "metadata": {},
     "output_type": "display_data"
    }
   ],
   "source": [
    "# Define the model\n",
    "my_model_3 = XGBRegressor(n_estimators=50,learning_rate=0.05)\n",
    "my_model_3.fit(X_train,y_train)\n",
    "predictions_3=my_model_3.predict(X_valid)\n",
    "# Calculate MAE\n",
    "mae_3 = mean_absolute_error(y_valid,predictions_3)\n",
    "\n",
    "# Uncomment to print MAE\n",
    "# print(\"Mean Absolute Error:\" , mae_2)\n",
    "\n",
    "# Check your answer\n",
    "step_3.check()"
   ]
  },
  {
   "cell_type": "code",
   "execution_count": 12,
   "id": "2b03fa70",
   "metadata": {
    "execution": {
     "iopub.execute_input": "2023-05-08T15:41:17.465537Z",
     "iopub.status.busy": "2023-05-08T15:41:17.465119Z",
     "iopub.status.idle": "2023-05-08T15:41:17.469086Z",
     "shell.execute_reply": "2023-05-08T15:41:17.468261Z"
    },
    "papermill": {
     "duration": 0.013415,
     "end_time": "2023-05-08T15:41:17.471160",
     "exception": false,
     "start_time": "2023-05-08T15:41:17.457745",
     "status": "completed"
    },
    "tags": []
   },
   "outputs": [],
   "source": [
    "# Lines below will give you a hint or solution code\n",
    "#step_3.hint()\n",
    "#step_3.solution()"
   ]
  },
  {
   "cell_type": "markdown",
   "id": "78b3a4e9",
   "metadata": {
    "papermill": {
     "duration": 0.005956,
     "end_time": "2023-05-08T15:41:17.483679",
     "exception": false,
     "start_time": "2023-05-08T15:41:17.477723",
     "status": "completed"
    },
    "tags": []
   },
   "source": [
    "# Keep going\n",
    "\n",
    "Continue to learn about **[data leakage](https://www.kaggle.com/alexisbcook/data-leakage)**.  This is an important issue for a data scientist to understand, and it has the potential to ruin your models in subtle and dangerous ways!"
   ]
  },
  {
   "cell_type": "markdown",
   "id": "9d68cc50",
   "metadata": {
    "papermill": {
     "duration": 0.00584,
     "end_time": "2023-05-08T15:41:17.495961",
     "exception": false,
     "start_time": "2023-05-08T15:41:17.490121",
     "status": "completed"
    },
    "tags": []
   },
   "source": [
    "---\n",
    "\n",
    "\n",
    "\n",
    "\n",
    "*Have questions or comments? Visit the [course discussion forum](https://www.kaggle.com/learn/intermediate-machine-learning/discussion) to chat with other learners.*"
   ]
  }
 ],
 "metadata": {
  "kernelspec": {
   "display_name": "Python 3",
   "language": "python",
   "name": "python3"
  },
  "language_info": {
   "codemirror_mode": {
    "name": "ipython",
    "version": 3
   },
   "file_extension": ".py",
   "mimetype": "text/x-python",
   "name": "python",
   "nbconvert_exporter": "python",
   "pygments_lexer": "ipython3",
   "version": "3.10.10"
  },
  "papermill": {
   "default_parameters": {},
   "duration": 24.770486,
   "end_time": "2023-05-08T15:41:18.525700",
   "environment_variables": {},
   "exception": null,
   "input_path": "__notebook__.ipynb",
   "output_path": "__notebook__.ipynb",
   "parameters": {},
   "start_time": "2023-05-08T15:40:53.755214",
   "version": "2.4.0"
  }
 },
 "nbformat": 4,
 "nbformat_minor": 5
}
